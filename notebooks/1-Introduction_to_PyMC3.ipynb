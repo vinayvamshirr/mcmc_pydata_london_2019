{
  "cells": [
    {
      "cell_type": "markdown",
      "metadata": {
        "id": "w4MYoEUcAbe5"
      },
      "source": [
        "# Bayesian Analysis Using PyMC3\n",
        "\n",
        "Before we jump in to model-building and using MCMC to do wonderful things, it is useful to understand a few of the theoretical underpinnings of the Bayesian statistical paradigm. A little theory (and I do mean a *little*) goes a long way towards being able to apply the methods correctly and effectively.\n",
        "\n",
        "## What *is* Bayesian Statistical Analysis?\n",
        "\n",
        "Though many of you will have taken a statistics course or two during your undergraduate (or graduate) education, most of those who have will likely not have had a course in *Bayesian* statistics. Most introductory courses, particularly for non-statisticians, still do not cover Bayesian methods at all, except perhaps to derive Bayes' formula as a trivial rearrangement of the definition of conditional probability. Even today, Bayesian courses are typically tacked onto the curriculum, rather than being integrated into the program.\n",
        "\n",
        "In fact, Bayesian statistics is not just a particular method, or even a class of methods; it is an entirely different paradigm for doing statistical analysis.\n",
        "\n",
        "> Practical methods for **making inferences from data using probability models**  for quantities we observe and about which we wish to learn.\n",
        "*-- Gelman et al. 2013*\n",
        "\n",
        "A Bayesian model is described by parameters, uncertainty in those parameters is described using probability distributions.\n",
        "\n",
        "All conclusions from Bayesian statistical procedures are stated in terms of *probability statements*\n",
        "\n",
        "![](https://github.com/vinayvamshirr/mcmc_pydata_london_2019/blob/master/notebooks/images/prob_model.png?raw=1)\n",
        "\n",
        "This confers several benefits to the analyst, including:\n",
        "\n",
        "- ease of **interpretation**, summarization of uncertainty\n",
        "- can incorporate **uncertainty in parent parameters**\n",
        "- easy to calculate **summary statistics**"
      ]
    },
    {
      "cell_type": "markdown",
      "source": [
        ""
      ],
      "metadata": {
        "id": "Nwdc-Soj-gER"
      }
    },
    {
      "cell_type": "markdown",
      "metadata": {
        "id": "76e__ZawAbfE"
      },
      "source": [
        "## Bayesian vs Frequentist Statistics: What's the difference?\n",
        "\n",
        "Any statistical paradigm, Bayesian or otherwise, involves at least the following: \n",
        "\n",
        "1. Some **unknown quantities** about which we are interested in learning or testing. We call these *parameters*.\n",
        "2. Some **data** which have been observed, and hopefully contain information about (1).\n",
        "3. One or more **models** that relate the data to the parameters, and is the instrument that is used to learn.\n",
        "\n",
        "### The Frequentist World View\n",
        "\n",
        "![Fisher](https://github.com/vinayvamshirr/mcmc_pydata_london_2019/blob/master/notebooks/images/fisher.png?raw=1)\n",
        "\n",
        "- The **data** that have been observed are considered **random**, because they are realizations of random processes, and hence will vary each time one goes to observe the system.\n",
        "- **Model parameters** are considered **fixed**. The parameters' values are unknown, but they are fixed, and so we *condition* on them.\n",
        "\n",
        "In mathematical notation, this implies a (very) general model of the following form:\n",
        "\n",
        "<div style=\"font-size:35px\">\n",
        "\\\\[f(y | \\theta)\\\\]\n",
        "</div>\n",
        "\n",
        "Here, the model \\\\(f\\\\) accepts data values \\\\(y\\\\) as an argument, conditional on particular values of \\\\(\\theta\\\\).\n",
        "\n",
        "Frequentist inference typically involves deriving **estimators** for the unknown parameters. Estimators are formulae that return estimates for particular estimands, as a function of data. They are selected based on some chosen optimality criterion, such as *unbiasedness*, *variance minimization*, or *efficiency*.\n",
        "\n",
        "> For example, lets say that we have collected some data on the prevalence of autism spectrum disorder (ASD) in some defined population. Our sample includes \\\\(n\\\\) sampled children, \\\\(y\\\\) of them having been diagnosed with autism. A frequentist estimator of the prevalence \\\\(p\\\\) is:\n",
        "\n",
        "> <div style=\"font-size:25px\">\n",
        "> \\\\[\\hat{p} = \\frac{y}{n}\\\\]\n",
        "> </div>\n",
        "\n",
        "> Why this particular function? Because it can be shown to be unbiased and minimum-variance.\n",
        "\n",
        "It is important to note that new estimators need to be derived for every estimand that is introduced.\n",
        "\n",
        "### The Bayesian World View\n",
        "\n",
        "![Bayes](https://github.com/vinayvamshirr/mcmc_pydata_london_2019/blob/master/notebooks/images/bayes.png?raw=1)\n",
        "\n",
        "- **Data** are considered **fixed**. They used to be random, but once they were written into your lab notebook/spreadsheet/IPython notebook they do not change.\n",
        "- Model parameters themselves may not be random, but Bayesians use probability distribtutions to describe their uncertainty in parameter values, and are therefore treated as **random**. In some cases, it is useful to consider **parameters** as having been **sampled from probability distributions.**\n",
        "\n",
        "This implies the following form:\n",
        "\n",
        "<div style=\"font-size:35px\">\n",
        "\\\\[p(\\theta | y)\\\\]\n",
        "</div>\n",
        "\n",
        "This formulation used to be referred to as ***inverse probability***, because it infers from observations to parameters, or from effects to causes.\n",
        "\n",
        "Bayesians do not seek new estimators for every estimation problem they encounter. There is only one estimator for Bayesian inference: **Bayes' Formula**.\n",
        "\n",
        "![](https://github.com/vinayvamshirr/mcmc_pydata_london_2019/blob/master/notebooks/images/bayes_formula.png?raw=1)"
      ]
    },
    {
      "cell_type": "markdown",
      "metadata": {
        "id": "cc6CMyZrAbfI"
      },
      "source": [
        "## Example: Statistical hypothesis testing\n",
        "\n",
        "The *de facto* standard for statistical inference is statistical hypothesis testing. The goal of hypothesis testing is to evaluate a **null hypothesis**. There are two possible outcomes:\n",
        "\n",
        "- **reject** the null hypothesis\n",
        "- **fail to reject** the null hypothesis\n",
        "\n",
        "Rejection occurs when a chosen test statistic is higher than some pre-specified threshold valuel; non-rejection occurs otherwise.\n",
        "\n",
        "Notice that neither outcome says anything about the quantity of interest, the **research hypothesis**. \n",
        "\n",
        "Setting up a statistical test involves **several subjective choices** by the user that are rarely justified based on the problem or decision at hand:\n",
        "\n",
        "- statistical **test to use**\n",
        "- **null hypothesis** to test\n",
        "- **significance level**\n",
        "\n",
        "Choices are often based on arbitrary criteria, including \"statistical tradition\" (Johnson 1999). The resulting evidence is indirect, incomplete, and typically overstates the evidence against the null hypothesis (Goodman 1999).\n",
        "\n",
        "Most importantly to applied users, the results of statistical hypothesis tests are very **easy to misinterpret.** \n",
        "\n",
        "### Estimation \n",
        "\n",
        "Instead of testing, a more informative and effective approach for inference is based on **estimation** (be it frequentist or Bayesian). That is, rather than testing whether two groups are different, we instead pursue an estimate of *how different* they are, which is fundamentally more informative. \n",
        "\n",
        "Additionally, we include an estimate of **uncertainty** associated with that difference which includes uncertainty due to our lack of knowledge of the model parameters (*epistemic uncertainty*) and uncertainty due to the inherent stochasticity of the system (*aleatory uncertainty*)."
      ]
    },
    {
      "cell_type": "markdown",
      "metadata": {
        "id": "kPKoW1gMAbfK"
      },
      "source": [
        "### Case Study: Radon contamination\n",
        "\n",
        "As a simple example, we will conduct an analysis using Gelman et al.'s (2007) radon dataset. In this dataset the amount of the radioactive gas radon has been measured among different households in all counties of several states. Radon gas is known to be the highest cause of lung cancer in non-smokers. It is believed to be more strongly present in households containing a basement and to differ in amount present among types of soil.\n",
        "\n",
        ">  the US EPA has set an action level of 4 pCi/L. At or above this level of radon, the EPA recommends you take corrective measures to reduce your exposure to radon gas.\n",
        "\n",
        "![radon](https://github.com/vinayvamshirr/mcmc_pydata_london_2019/blob/master/notebooks/images/how_radon_enters.jpg?raw=1)\n",
        "\n",
        "Let's import the dataset:"
      ]
    },
    {
      "cell_type": "code",
      "execution_count": 2,
      "metadata": {
        "id": "CNHQawk_AbfL"
      },
      "outputs": [],
      "source": [
        "%matplotlib inline\n",
        "import numpy as np\n",
        "import pandas as pd\n",
        "import matplotlib.pylab as plt\n",
        "import seaborn as sns\n",
        "sns.set_context('notebook')\n",
        "\n",
        "import warnings\n",
        "warnings.filterwarnings(\"ignore\")"
      ]
    },
    {
      "cell_type": "code",
      "execution_count": 3,
      "metadata": {
        "id": "OEpnfSEqAbfO",
        "outputId": "954edefa-2d18-480c-f80d-32231b02a5c7",
        "colab": {
          "base_uri": "https://localhost:8080/",
          "height": 299
        }
      },
      "outputs": [
        {
          "output_type": "execute_result",
          "data": {
            "text/plain": [
              "    idnum state state2  stfips    zip  region  typebldg  floor  room basement  \\\n",
              "0  5081.0    MN     MN    27.0  55735     5.0       1.0    1.0   3.0        N   \n",
              "1  5082.0    MN     MN    27.0  55748     5.0       1.0    0.0   4.0        Y   \n",
              "2  5083.0    MN     MN    27.0  55748     5.0       1.0    0.0   4.0        Y   \n",
              "3  5084.0    MN     MN    27.0  56469     5.0       1.0    0.0   4.0        Y   \n",
              "4  5085.0    MN     MN    27.0  55011     3.0       1.0    0.0   4.0        Y   \n",
              "\n",
              "   ... pcterr        adjwt  dupflag  zipflag  cntyfips  county     fips  \\\n",
              "0  ...    9.7  1146.499190      1.0      0.0       1.0  AITKIN  27001.0   \n",
              "1  ...   14.5   471.366223      0.0      0.0       1.0  AITKIN  27001.0   \n",
              "2  ...    9.6   433.316718      0.0      0.0       1.0  AITKIN  27001.0   \n",
              "3  ...   24.3   461.623670      0.0      0.0       1.0  AITKIN  27001.0   \n",
              "4  ...   13.8   433.316718      0.0      0.0       3.0   ANOKA  27003.0   \n",
              "\n",
              "       Uppm  county_code  log_radon  \n",
              "0  0.502054            0   0.832909  \n",
              "1  0.502054            0   0.832909  \n",
              "2  0.502054            0   1.098612  \n",
              "3  0.502054            0   0.095310  \n",
              "4  0.428565            1   1.163151  \n",
              "\n",
              "[5 rows x 29 columns]"
            ],
            "text/html": [
              "\n",
              "  <div id=\"df-077e4298-d249-4342-b441-d5dd808886de\">\n",
              "    <div class=\"colab-df-container\">\n",
              "      <div>\n",
              "<style scoped>\n",
              "    .dataframe tbody tr th:only-of-type {\n",
              "        vertical-align: middle;\n",
              "    }\n",
              "\n",
              "    .dataframe tbody tr th {\n",
              "        vertical-align: top;\n",
              "    }\n",
              "\n",
              "    .dataframe thead th {\n",
              "        text-align: right;\n",
              "    }\n",
              "</style>\n",
              "<table border=\"1\" class=\"dataframe\">\n",
              "  <thead>\n",
              "    <tr style=\"text-align: right;\">\n",
              "      <th></th>\n",
              "      <th>idnum</th>\n",
              "      <th>state</th>\n",
              "      <th>state2</th>\n",
              "      <th>stfips</th>\n",
              "      <th>zip</th>\n",
              "      <th>region</th>\n",
              "      <th>typebldg</th>\n",
              "      <th>floor</th>\n",
              "      <th>room</th>\n",
              "      <th>basement</th>\n",
              "      <th>...</th>\n",
              "      <th>pcterr</th>\n",
              "      <th>adjwt</th>\n",
              "      <th>dupflag</th>\n",
              "      <th>zipflag</th>\n",
              "      <th>cntyfips</th>\n",
              "      <th>county</th>\n",
              "      <th>fips</th>\n",
              "      <th>Uppm</th>\n",
              "      <th>county_code</th>\n",
              "      <th>log_radon</th>\n",
              "    </tr>\n",
              "  </thead>\n",
              "  <tbody>\n",
              "    <tr>\n",
              "      <th>0</th>\n",
              "      <td>5081.0</td>\n",
              "      <td>MN</td>\n",
              "      <td>MN</td>\n",
              "      <td>27.0</td>\n",
              "      <td>55735</td>\n",
              "      <td>5.0</td>\n",
              "      <td>1.0</td>\n",
              "      <td>1.0</td>\n",
              "      <td>3.0</td>\n",
              "      <td>N</td>\n",
              "      <td>...</td>\n",
              "      <td>9.7</td>\n",
              "      <td>1146.499190</td>\n",
              "      <td>1.0</td>\n",
              "      <td>0.0</td>\n",
              "      <td>1.0</td>\n",
              "      <td>AITKIN</td>\n",
              "      <td>27001.0</td>\n",
              "      <td>0.502054</td>\n",
              "      <td>0</td>\n",
              "      <td>0.832909</td>\n",
              "    </tr>\n",
              "    <tr>\n",
              "      <th>1</th>\n",
              "      <td>5082.0</td>\n",
              "      <td>MN</td>\n",
              "      <td>MN</td>\n",
              "      <td>27.0</td>\n",
              "      <td>55748</td>\n",
              "      <td>5.0</td>\n",
              "      <td>1.0</td>\n",
              "      <td>0.0</td>\n",
              "      <td>4.0</td>\n",
              "      <td>Y</td>\n",
              "      <td>...</td>\n",
              "      <td>14.5</td>\n",
              "      <td>471.366223</td>\n",
              "      <td>0.0</td>\n",
              "      <td>0.0</td>\n",
              "      <td>1.0</td>\n",
              "      <td>AITKIN</td>\n",
              "      <td>27001.0</td>\n",
              "      <td>0.502054</td>\n",
              "      <td>0</td>\n",
              "      <td>0.832909</td>\n",
              "    </tr>\n",
              "    <tr>\n",
              "      <th>2</th>\n",
              "      <td>5083.0</td>\n",
              "      <td>MN</td>\n",
              "      <td>MN</td>\n",
              "      <td>27.0</td>\n",
              "      <td>55748</td>\n",
              "      <td>5.0</td>\n",
              "      <td>1.0</td>\n",
              "      <td>0.0</td>\n",
              "      <td>4.0</td>\n",
              "      <td>Y</td>\n",
              "      <td>...</td>\n",
              "      <td>9.6</td>\n",
              "      <td>433.316718</td>\n",
              "      <td>0.0</td>\n",
              "      <td>0.0</td>\n",
              "      <td>1.0</td>\n",
              "      <td>AITKIN</td>\n",
              "      <td>27001.0</td>\n",
              "      <td>0.502054</td>\n",
              "      <td>0</td>\n",
              "      <td>1.098612</td>\n",
              "    </tr>\n",
              "    <tr>\n",
              "      <th>3</th>\n",
              "      <td>5084.0</td>\n",
              "      <td>MN</td>\n",
              "      <td>MN</td>\n",
              "      <td>27.0</td>\n",
              "      <td>56469</td>\n",
              "      <td>5.0</td>\n",
              "      <td>1.0</td>\n",
              "      <td>0.0</td>\n",
              "      <td>4.0</td>\n",
              "      <td>Y</td>\n",
              "      <td>...</td>\n",
              "      <td>24.3</td>\n",
              "      <td>461.623670</td>\n",
              "      <td>0.0</td>\n",
              "      <td>0.0</td>\n",
              "      <td>1.0</td>\n",
              "      <td>AITKIN</td>\n",
              "      <td>27001.0</td>\n",
              "      <td>0.502054</td>\n",
              "      <td>0</td>\n",
              "      <td>0.095310</td>\n",
              "    </tr>\n",
              "    <tr>\n",
              "      <th>4</th>\n",
              "      <td>5085.0</td>\n",
              "      <td>MN</td>\n",
              "      <td>MN</td>\n",
              "      <td>27.0</td>\n",
              "      <td>55011</td>\n",
              "      <td>3.0</td>\n",
              "      <td>1.0</td>\n",
              "      <td>0.0</td>\n",
              "      <td>4.0</td>\n",
              "      <td>Y</td>\n",
              "      <td>...</td>\n",
              "      <td>13.8</td>\n",
              "      <td>433.316718</td>\n",
              "      <td>0.0</td>\n",
              "      <td>0.0</td>\n",
              "      <td>3.0</td>\n",
              "      <td>ANOKA</td>\n",
              "      <td>27003.0</td>\n",
              "      <td>0.428565</td>\n",
              "      <td>1</td>\n",
              "      <td>1.163151</td>\n",
              "    </tr>\n",
              "  </tbody>\n",
              "</table>\n",
              "<p>5 rows × 29 columns</p>\n",
              "</div>\n",
              "      <button class=\"colab-df-convert\" onclick=\"convertToInteractive('df-077e4298-d249-4342-b441-d5dd808886de')\"\n",
              "              title=\"Convert this dataframe to an interactive table.\"\n",
              "              style=\"display:none;\">\n",
              "        \n",
              "  <svg xmlns=\"http://www.w3.org/2000/svg\" height=\"24px\"viewBox=\"0 0 24 24\"\n",
              "       width=\"24px\">\n",
              "    <path d=\"M0 0h24v24H0V0z\" fill=\"none\"/>\n",
              "    <path d=\"M18.56 5.44l.94 2.06.94-2.06 2.06-.94-2.06-.94-.94-2.06-.94 2.06-2.06.94zm-11 1L8.5 8.5l.94-2.06 2.06-.94-2.06-.94L8.5 2.5l-.94 2.06-2.06.94zm10 10l.94 2.06.94-2.06 2.06-.94-2.06-.94-.94-2.06-.94 2.06-2.06.94z\"/><path d=\"M17.41 7.96l-1.37-1.37c-.4-.4-.92-.59-1.43-.59-.52 0-1.04.2-1.43.59L10.3 9.45l-7.72 7.72c-.78.78-.78 2.05 0 2.83L4 21.41c.39.39.9.59 1.41.59.51 0 1.02-.2 1.41-.59l7.78-7.78 2.81-2.81c.8-.78.8-2.07 0-2.86zM5.41 20L4 18.59l7.72-7.72 1.47 1.35L5.41 20z\"/>\n",
              "  </svg>\n",
              "      </button>\n",
              "      \n",
              "  <style>\n",
              "    .colab-df-container {\n",
              "      display:flex;\n",
              "      flex-wrap:wrap;\n",
              "      gap: 12px;\n",
              "    }\n",
              "\n",
              "    .colab-df-convert {\n",
              "      background-color: #E8F0FE;\n",
              "      border: none;\n",
              "      border-radius: 50%;\n",
              "      cursor: pointer;\n",
              "      display: none;\n",
              "      fill: #1967D2;\n",
              "      height: 32px;\n",
              "      padding: 0 0 0 0;\n",
              "      width: 32px;\n",
              "    }\n",
              "\n",
              "    .colab-df-convert:hover {\n",
              "      background-color: #E2EBFA;\n",
              "      box-shadow: 0px 1px 2px rgba(60, 64, 67, 0.3), 0px 1px 3px 1px rgba(60, 64, 67, 0.15);\n",
              "      fill: #174EA6;\n",
              "    }\n",
              "\n",
              "    [theme=dark] .colab-df-convert {\n",
              "      background-color: #3B4455;\n",
              "      fill: #D2E3FC;\n",
              "    }\n",
              "\n",
              "    [theme=dark] .colab-df-convert:hover {\n",
              "      background-color: #434B5C;\n",
              "      box-shadow: 0px 1px 3px 1px rgba(0, 0, 0, 0.15);\n",
              "      filter: drop-shadow(0px 1px 2px rgba(0, 0, 0, 0.3));\n",
              "      fill: #FFFFFF;\n",
              "    }\n",
              "  </style>\n",
              "\n",
              "      <script>\n",
              "        const buttonEl =\n",
              "          document.querySelector('#df-077e4298-d249-4342-b441-d5dd808886de button.colab-df-convert');\n",
              "        buttonEl.style.display =\n",
              "          google.colab.kernel.accessAllowed ? 'block' : 'none';\n",
              "\n",
              "        async function convertToInteractive(key) {\n",
              "          const element = document.querySelector('#df-077e4298-d249-4342-b441-d5dd808886de');\n",
              "          const dataTable =\n",
              "            await google.colab.kernel.invokeFunction('convertToInteractive',\n",
              "                                                     [key], {});\n",
              "          if (!dataTable) return;\n",
              "\n",
              "          const docLinkHtml = 'Like what you see? Visit the ' +\n",
              "            '<a target=\"_blank\" href=https://colab.research.google.com/notebooks/data_table.ipynb>data table notebook</a>'\n",
              "            + ' to learn more about interactive tables.';\n",
              "          element.innerHTML = '';\n",
              "          dataTable['output_type'] = 'display_data';\n",
              "          await google.colab.output.renderOutput(dataTable, element);\n",
              "          const docLink = document.createElement('div');\n",
              "          docLink.innerHTML = docLinkHtml;\n",
              "          element.appendChild(docLink);\n",
              "        }\n",
              "      </script>\n",
              "    </div>\n",
              "  </div>\n",
              "  "
            ]
          },
          "metadata": {},
          "execution_count": 3
        }
      ],
      "source": [
        "radon = pd.read_csv('https://raw.githubusercontent.com/vinayvamshirr/mcmc_pydata_london_2019/master/data/radon.csv', index_col=0)\n",
        "radon.head()"
      ]
    },
    {
      "cell_type": "markdown",
      "metadata": {
        "id": "kDtKNYivAbfR"
      },
      "source": [
        "Let's focus on the (log) radon levels measured in a single county (Hennepin). \n",
        "\n",
        "Suppose we are interested in:\n",
        "\n",
        "- whether the mean radon value is greater than 4 pCi/L in Hennepin county\n",
        "- the probability that any randomly-chosen household in Hennepin county has a reading of greater than 4"
      ]
    },
    {
      "cell_type": "code",
      "execution_count": 4,
      "metadata": {
        "id": "h0x3CsVZAbfS",
        "outputId": "d3fe95e8-5416-4df9-c6ab-0329060d55f4",
        "colab": {
          "base_uri": "https://localhost:8080/",
          "height": 285
        }
      },
      "outputs": [
        {
          "output_type": "display_data",
          "data": {
            "text/plain": [
              "<Figure size 432x288 with 1 Axes>"
            ],
            "image/png": "[encoded data removed]"
          },
          "metadata": {
            "needs_background": "light"
          }
        }
      ],
      "source": [
        "hennepin_radon = radon.query('county==\"HENNEPIN\"').log_radon\n",
        "sns.distplot(hennepin_radon, bins=18)\n",
        "plt.axvline(np.log(4));"
      ]
    },
    {
      "cell_type": "markdown",
      "metadata": {
        "id": "Bkxp8ZTmAbfT"
      },
      "source": [
        "## The Bayesian Workflow\n",
        "\n",
        "The process of conducting Bayesian inference can be broken down into three general steps (Gelman *et al.* 2013):\n",
        "\n",
        "![](https://github.com/vinayvamshirr/mcmc_pydata_london_2019/blob/master/notebooks/images/123.png?raw=1)\n",
        "\n",
        "### Step 1: Specify a probability model\n",
        "\n",
        "As was noted above, Bayesian statistics involves using probability models to solve problems. So, the first task is to ***completely specify*** the model in terms of probability distributions. This includes everything: unknown parameters, data, covariates, missing data, predictions. All must be assigned some probability density.\n",
        "\n",
        "This step involves making choices.\n",
        "\n",
        "- what is the form of the sampling distribution of the data?\n",
        "- what form best describes our uncertainty in the unknown parameters?\n",
        "\n",
        "### Step 2: Calculate a posterior distribution\n",
        "\n",
        "The mathematical form \\\\(p(\\theta | y)\\\\) that we associated with the Bayesian approach is referred to as a **posterior distribution**.\n",
        "\n",
        "> posterior /pos·ter·i·or/ (pos-tēr´e-er) later in time; subsequent.\n",
        "\n",
        "Why posterior? Because it tells us what we know about the unknown \\\\(\\theta\\\\) *after* having observed \\\\(y\\\\).\n",
        "\n",
        "This posterior distribution is formulated as a function of the probability model that was specified in Step 1. Usually, we can write it down but we cannot calculate it analytically. In fact, the difficulty inherent in calculating the posterior distribution for most models of interest is perhaps the major contributing factor for the lack of widespread adoption of Bayesian methods for data analysis. Various strategies for doing so comprise this tutorial.\n",
        "\n",
        "**But**, once the posterior distribution is calculated, you get a lot for free:\n",
        "\n",
        "- point estimates\n",
        "- credible intervals\n",
        "- quantiles\n",
        "- predictions\n",
        "\n",
        "### Step 3: Check your model\n",
        "\n",
        "Though frequently ignored in practice, it is critical that the model and its outputs be assessed before using the outputs for inference. Models are specified based on assumptions that are largely unverifiable, so the least we can do is examine the output in detail, relative to the specified model and the data that were used to fit the model.\n",
        "\n",
        "Specifically, we must ask:\n",
        "\n",
        "- does the **model fit data**?\n",
        "- are the conclusions reasonable?\n",
        "- are the outputs sensitive to changes in model structure?"
      ]
    },
    {
      "cell_type": "markdown",
      "metadata": {
        "id": "2hBNjgyvAbfU"
      },
      "source": [
        "### Probability Model\n",
        "\n",
        "Returning to our example, specifying a full probability model consists of:\n",
        "\n",
        "- a likelihood function(s) for the observations\n",
        "- priors for the unknown parameters of the model\n",
        "\n",
        "The measurements look approximately normal, so let's start by assuming a normal distribution as the sampling distribution (likelihood) for the data. \n",
        "\n",
        "$$y_i \\sim N(\\mu, \\sigma^2)$$\n",
        "\n",
        "(don't worry, we can evaluate this assumption)\n",
        "\n",
        "This implies that we have 2 unknowns in the model; the mean and standard deviation of the distribution. \n",
        "\n",
        "#### Prior choice\n",
        "\n",
        "How do we choose distributions to use as priors for these parameters? \n",
        "\n",
        "There are several considerations:\n",
        "\n",
        "- discrete vs continuous values\n",
        "- the support of the variable\n",
        "- the available prior information\n",
        "\n",
        "While there may likely be prior information about the distribution of radon values, we will assume no prior knowledge, and specify a **diffuse** prior for each parameter.\n",
        "\n",
        "Since the mean can take any real value (since it is on the log scale), we will use another normal distribution here, and specify a large variance to allow the possibility of very large or very small values:\n",
        "\n",
        "$$\\mu \\sim N(0, 10^2)$$\n",
        "\n",
        "For the standard deviation, we know that the true value must be positive (no negative variances!). I will choose a uniform prior bounded from below at zero and from above at a value that is sure to be higher than any plausible value the true standard deviation (on the log scale) could take.\n",
        "\n",
        "$$\\sigma \\sim U(0, 10)$$\n",
        "\n",
        "We can encode these in a Python model, using PyMC3 as follows:"
      ]
    },
    {
      "cell_type": "code",
      "execution_count": 5,
      "metadata": {
        "id": "pu2avC9uAbfW"
      },
      "outputs": [],
      "source": [
        "from pymc3 import Model, Normal, Uniform\n",
        "\n",
        "with Model() as radon_model:\n",
        "    \n",
        "    μ = Normal('μ', mu=0, sd=10)\n",
        "    σ = Uniform('σ', 0, 10)\n",
        "    #mu = Normal('\\mu', mu =0, sd =10)"
      ]
    },
    {
      "cell_type": "markdown",
      "metadata": {
        "id": "O67SDz90AbfW"
      },
      "source": [
        "All that remains is to add the likelihood, which takes $\\mu$ and $\\sigma$ as parameters, and the log-radon values as the set of observations:"
      ]
    },
    {
      "cell_type": "code",
      "execution_count": 6,
      "metadata": {
        "id": "PeFIZhQWAbfX"
      },
      "outputs": [],
      "source": [
        "with radon_model:\n",
        "    \n",
        "    dist = Normal('dist', mu=μ, sd=σ, observed=hennepin_radon)"
      ]
    },
    {
      "cell_type": "markdown",
      "metadata": {
        "id": "rSWccRwDAbfX"
      },
      "source": [
        "Now, we will fit the model using a numerical approach called **Markov chain Monte Carlo (MCMC)**. This will draw samples from the posterior distribution (which cannot be calculated exactly)."
      ]
    },
    {
      "cell_type": "code",
      "execution_count": 7,
      "metadata": {
        "id": "6rN5c19IAbfY",
        "outputId": "f38ff42a-2505-4e96-b2b8-a48fc606df69",
        "colab": {
          "base_uri": "https://localhost:8080/",
          "height": 124
        }
      },
      "outputs": [
        {
          "output_type": "stream",
          "name": "stderr",
          "text": [
            "Auto-assigning NUTS sampler...\n",
            "Initializing NUTS using jitter+adapt_diag...\n",
            "Multiprocess sampling (2 chains in 2 jobs)\n",
            "NUTS: [σ, μ]\n"
          ]
        },
        {
          "output_type": "display_data",
          "data": {
            "text/plain": [
              "<IPython.core.display.HTML object>"
            ],
            "text/html": [
              "\n",
              "<style>\n",
              "    /* Turns off some styling */\n",
              "    progress {\n",
              "        /* gets rid of default border in Firefox and Opera. */\n",
              "        border: none;\n",
              "        /* Needs to be in here for Safari polyfill so background images work as expected. */\n",
              "        background-size: auto;\n",
              "    }\n",
              "    .progress-bar-interrupted, .progress-bar-interrupted::-webkit-progress-bar {\n",
              "        background: #F44336;\n",
              "    }\n",
              "</style>\n"
            ]
          },
          "metadata": {}
        },
        {
          "output_type": "display_data",
          "data": {
            "text/plain": [
              "<IPython.core.display.HTML object>"
            ],
            "text/html": [
              "\n",
              "    <div>\n",
              "      <progress value='4000' class='' max='4000' style='width:300px; height:20px; vertical-align: middle;'></progress>\n",
              "      100.00% [4000/4000 00:03<00:00 Sampling 2 chains, 0 divergences]\n",
              "    </div>\n",
              "    "
            ]
          },
          "metadata": {}
        },
        {
          "output_type": "stream",
          "name": "stderr",
          "text": [
            "Sampling 2 chains for 1_000 tune and 1_000 draw iterations (2_000 + 2_000 draws total) took 4 seconds.\n"
          ]
        }
      ],
      "source": [
        "from pymc3 import sample\n",
        "\n",
        "with radon_model:\n",
        "    \n",
        "    samples = sample(1000, tune=1000, cores=2, random_seed=42)"
      ]
    },
    {
      "cell_type": "code",
      "execution_count": 8,
      "metadata": {
        "id": "zstIZjf_Abfa",
        "outputId": "80a6e06e-5bb6-45e9-810d-2969d96acec5",
        "colab": {
          "base_uri": "https://localhost:8080/",
          "height": 298
        }
      },
      "outputs": [
        {
          "output_type": "stream",
          "name": "stderr",
          "text": [
            "Got error No model on context stack. trying to find log_likelihood in translation.\n"
          ]
        },
        {
          "output_type": "display_data",
          "data": {
            "text/plain": [
              "<Figure size 432x288 with 1 Axes>"
            ],
            "image/png": "[encoded data removed]"
          },
          "metadata": {
            "needs_background": "light"
          }
        }
      ],
      "source": [
        "from arviz import plot_posterior\n",
        "\n",
        "plot_posterior(samples, var_names=['μ'], ref_val=np.log(4));"
      ]
    },
    {
      "cell_type": "markdown",
      "metadata": {
        "id": "mwMQIbAIAbfb"
      },
      "source": [
        "The plot shows the posterior distribution of $\\mu$, along with an estimate of the 95% posterior **credible interval**. \n",
        "\n",
        "The output\n",
        "\n",
        "    84% < 1.38629 < 16%\n",
        "    \n",
        "informs us that the probability of $\\mu$ being less than log(4) is 84% and the corresponding probability of being greater than log(4) is 16%.\n",
        "\n",
        "> The posterior probability that the mean level of household radon in Henneprin County is greater than 4 pCi/L is 0.16."
      ]
    },
    {
      "cell_type": "markdown",
      "metadata": {
        "id": "eNWZ6ic3Abfb"
      },
      "source": [
        "### Prediction\n",
        "\n",
        "What is the probability that a given household has a log-radon measurement larger than one? To answer this, we make use of the **posterior predictive distribution**.\n",
        "\n",
        "$$p(z |y) = \\int_{\\theta} p(z |\\theta) p(\\theta | y) d\\theta$$\n",
        "\n",
        "where here $z$ is the predicted value and y is the data used to fit the model.\n",
        "\n",
        "We can estimate this from the posterior samples of the parameters in the model."
      ]
    },
    {
      "cell_type": "code",
      "execution_count": 9,
      "metadata": {
        "id": "PaEesZHTAbfb",
        "outputId": "3d83eeb0-6fd9-4e83-bc9a-8e94ccea0921",
        "colab": {
          "base_uri": "https://localhost:8080/",
          "height": 37
        }
      },
      "outputs": [
        {
          "output_type": "display_data",
          "data": {
            "text/plain": [
              "<IPython.core.display.HTML object>"
            ],
            "text/html": [
              "\n",
              "<style>\n",
              "    /* Turns off some styling */\n",
              "    progress {\n",
              "        /* gets rid of default border in Firefox and Opera. */\n",
              "        border: none;\n",
              "        /* Needs to be in here for Safari polyfill so background images work as expected. */\n",
              "        background-size: auto;\n",
              "    }\n",
              "    .progress-bar-interrupted, .progress-bar-interrupted::-webkit-progress-bar {\n",
              "        background: #F44336;\n",
              "    }\n",
              "</style>\n"
            ]
          },
          "metadata": {}
        },
        {
          "output_type": "display_data",
          "data": {
            "text/plain": [
              "<IPython.core.display.HTML object>"
            ],
            "text/html": [
              "\n",
              "    <div>\n",
              "      <progress value='1000' class='' max='1000' style='width:300px; height:20px; vertical-align: middle;'></progress>\n",
              "      100.00% [1000/1000 00:02<00:00]\n",
              "    </div>\n",
              "    "
            ]
          },
          "metadata": {}
        }
      ],
      "source": [
        "from pymc3 import sample_posterior_predictive\n",
        "\n",
        "with radon_model:\n",
        "    pp_samples = sample_posterior_predictive(samples, 1000)"
      ]
    },
    {
      "cell_type": "code",
      "source": [
        "pp_samples"
      ],
      "metadata": {
        "collapsed": true,
        "id": "5yPoIY2xmNQm",
        "outputId": "5821cbad-fab7-4aa0-9882-7b8ce1f89f5d",
        "colab": {
          "base_uri": "https://localhost:8080/"
        }
      },
      "execution_count": null,
      "outputs": [
        {
          "output_type": "execute_result",
          "data": {
            "text/plain": [
              "{'dist': array([[1.41294449, 2.83635981, 1.7790188 , ..., 0.47022454, 0.11332625,\n",
              "         2.59225151],\n",
              "        [2.09575777, 1.21488031, 1.30028783, ..., 2.18576265, 0.75018317,\n",
              "         0.3469259 ],\n",
              "        [0.51925441, 1.17899458, 1.4147744 , ..., 0.91768163, 1.52846098,\n",
              "         1.75390395],\n",
              "        ...,\n",
              "        [0.437676  , 2.36650842, 1.49878563, ..., 1.18946298, 1.9533399 ,\n",
              "         0.71921116],\n",
              "        [1.87558667, 1.22495054, 0.16160477, ..., 1.62043985, 1.96615819,\n",
              "         1.19812424],\n",
              "        [0.91799506, 1.10165297, 2.07824249, ..., 0.96607011, 0.74553496,\n",
              "         2.54094957]])}"
            ]
          },
          "metadata": {},
          "execution_count": 29
        }
      ]
    },
    {
      "cell_type": "code",
      "execution_count": 10,
      "metadata": {
        "id": "flsskh0vAbfc",
        "outputId": "ec4d1fe8-c85d-412f-c00a-5a7bd4ff6b51",
        "colab": {
          "base_uri": "https://localhost:8080/"
        }
      },
      "outputs": [
        {
          "output_type": "execute_result",
          "data": {
            "text/plain": [
              "0.4632"
            ]
          },
          "metadata": {},
          "execution_count": 10
        }
      ],
      "source": [
        "(pp_samples['dist'] > np.log(4)).mean()"
      ]
    },
    {
      "cell_type": "markdown",
      "metadata": {
        "id": "754EEn7xAbfd"
      },
      "source": [
        "> The posterior probability that a randomly-selected household in Henneprin County contains radon levels in excess of 4 pCi/L is ~0.46."
      ]
    },
    {
      "cell_type": "markdown",
      "metadata": {
        "id": "FbCrqZ5TAbfe"
      },
      "source": [
        "### Model checking\n",
        "\n",
        "But, ***how do we know this model is any good?***\n",
        "\n",
        "Its important to check the fit of the model, to see if its assumptions are reasonable. One way to do this is to perform **posterior predictive checks**. This involves generating simulated data using the model that you built, and comparing that data to the observed data.\n",
        "\n",
        "One can choose a particular statistic to compare, such as tail probabilities or quartiles, but here it is useful to compare them graphically.\n",
        "\n",
        "We already have these simulations from the previous exercise!"
      ]
    },
    {
      "cell_type": "code",
      "execution_count": 11,
      "metadata": {
        "id": "Dc4nB2AKAbfe",
        "outputId": "2594ff1b-a46d-4be5-846d-dfe2f12f7a2a",
        "colab": {
          "base_uri": "https://localhost:8080/",
          "height": 285
        }
      },
      "outputs": [
        {
          "output_type": "execute_result",
          "data": {
            "text/plain": [
              "<matplotlib.collections.LineCollection at 0x7f0db39816d0>"
            ]
          },
          "metadata": {},
          "execution_count": 11
        },
        {
          "output_type": "display_data",
          "data": {
            "text/plain": [
              "<Figure size 432x288 with 1 Axes>"
            ],
            "image/png": "[encoded data removed]"
          },
          "metadata": {
            "needs_background": "light"
          }
        }
      ],
      "source": [
        "p_thresh = [(sample>np.log(4)).mean() for sample in pp_samples['dist']]\n",
        "ax = sns.distplot(p_thresh)\n",
        "ax.vlines((hennepin_radon>np.log(4)).mean(), *ax.get_ylim(), color='r')"
      ]
    },
    {
      "cell_type": "markdown",
      "metadata": {
        "id": "FC6yubySAbfg"
      },
      "source": [
        "This shows a histogram of the proportion greater than log(4) calculated for each simulated dataset, compared to the empirical proportion."
      ]
    },
    {
      "cell_type": "markdown",
      "metadata": {
        "id": "Dv2U4U3CAbfg"
      },
      "source": [
        "### Prior sensitivity\n",
        "\n",
        "Its also important to check the sensitivity of your choice of priors to the resulting inference.\n",
        "\n",
        "Here is the same model, but with drastically different (though still uninformative) priors specified:"
      ]
    },
    {
      "cell_type": "code",
      "execution_count": 12,
      "metadata": {
        "id": "U6wYEUx0Abfh",
        "outputId": "d1f5d9b8-476b-4f2e-811d-0f409862c962",
        "colab": {
          "base_uri": "https://localhost:8080/",
          "height": 124
        }
      },
      "outputs": [
        {
          "output_type": "stream",
          "name": "stderr",
          "text": [
            "Auto-assigning NUTS sampler...\n",
            "Initializing NUTS using jitter+adapt_diag...\n",
            "Multiprocess sampling (2 chains in 2 jobs)\n",
            "NUTS: [σ, μ]\n"
          ]
        },
        {
          "output_type": "display_data",
          "data": {
            "text/plain": [
              "<IPython.core.display.HTML object>"
            ],
            "text/html": [
              "\n",
              "<style>\n",
              "    /* Turns off some styling */\n",
              "    progress {\n",
              "        /* gets rid of default border in Firefox and Opera. */\n",
              "        border: none;\n",
              "        /* Needs to be in here for Safari polyfill so background images work as expected. */\n",
              "        background-size: auto;\n",
              "    }\n",
              "    .progress-bar-interrupted, .progress-bar-interrupted::-webkit-progress-bar {\n",
              "        background: #F44336;\n",
              "    }\n",
              "</style>\n"
            ]
          },
          "metadata": {}
        },
        {
          "output_type": "display_data",
          "data": {
            "text/plain": [
              "<IPython.core.display.HTML object>"
            ],
            "text/html": [
              "\n",
              "    <div>\n",
              "      <progress value='4000' class='' max='4000' style='width:300px; height:20px; vertical-align: middle;'></progress>\n",
              "      100.00% [4000/4000 00:03<00:00 Sampling 2 chains, 0 divergences]\n",
              "    </div>\n",
              "    "
            ]
          },
          "metadata": {}
        },
        {
          "output_type": "stream",
          "name": "stderr",
          "text": [
            "Sampling 2 chains for 1_000 tune and 1_000 draw iterations (2_000 + 2_000 draws total) took 3 seconds.\n"
          ]
        }
      ],
      "source": [
        "from pymc3 import Flat, HalfCauchy\n",
        "\n",
        "with Model() as prior_sensitivity:\n",
        "    \n",
        "    μ = Flat('μ')\n",
        "    σ = HalfCauchy('σ', 5)\n",
        "    \n",
        "    dist = Normal('dist', mu=μ, sd=σ, observed=hennepin_radon)\n",
        "    \n",
        "    sensitivity_samples = sample(1000, cores=2)"
      ]
    },
    {
      "cell_type": "code",
      "execution_count": 13,
      "metadata": {
        "id": "w2S5mUZpAbfh",
        "outputId": "3076923d-5929-40e0-e456-9317578e56f3",
        "colab": {
          "base_uri": "https://localhost:8080/",
          "height": 298
        }
      },
      "outputs": [
        {
          "output_type": "stream",
          "name": "stderr",
          "text": [
            "Got error No model on context stack. trying to find log_likelihood in translation.\n"
          ]
        },
        {
          "output_type": "display_data",
          "data": {
            "text/plain": [
              "<Figure size 432x288 with 1 Axes>"
            ],
            "image/png": "[encoded data removed]"
          },
          "metadata": {
            "needs_background": "light"
          }
        }
      ],
      "source": [
        "plot_posterior(sensitivity_samples, var_names=['μ'], ref_val=np.log(4));"
      ]
    },
    {
      "cell_type": "markdown",
      "metadata": {
        "id": "e2Gy7M9VAbfi"
      },
      "source": [
        "Here is the original model for comparison:"
      ]
    },
    {
      "cell_type": "code",
      "execution_count": 14,
      "metadata": {
        "id": "yMQbsaUnAbfj",
        "outputId": "a25e03dd-a38c-43d6-9bb1-24ce2618a6ee",
        "colab": {
          "base_uri": "https://localhost:8080/",
          "height": 298
        }
      },
      "outputs": [
        {
          "output_type": "stream",
          "name": "stderr",
          "text": [
            "Got error No model on context stack. trying to find log_likelihood in translation.\n"
          ]
        },
        {
          "output_type": "display_data",
          "data": {
            "text/plain": [
              "<Figure size 432x288 with 1 Axes>"
            ],
            "image/png": "[encoded data removed]"
          },
          "metadata": {
            "needs_background": "light"
          }
        }
      ],
      "source": [
        "plot_posterior(samples, var_names=['μ'], ref_val=np.log(4));"
      ]
    },
    {
      "cell_type": "markdown",
      "metadata": {
        "id": "hzb_FmTRAbfj"
      },
      "source": [
        "---\n",
        "## To Learn More\n",
        "\n",
        "- Kruschke, J.K. [Doing Bayesian Data Analysis, Second Edition: A Tutorial with R, JAGS, and Stan](https://www.amazon.com/Doing-Bayesian-Data-Analysis-Tutorial/dp/0124058884). 2015. Academic Press / Elsevier. \n",
        "- [Probabilistic Programming and Bayesian Methods for Hackers](http://camdavidsonpilon.github.io/Probabilistic-Programming-and-Bayesian-Methods-for-Hackers/) by Cam Davidson Pilon\n",
        "- [PyMC3 Tutorial Notebooks](https://docs.pymc.io/nb_tutorials/index.html)"
      ]
    }
  ],
  "metadata": {
    "celltoolbar": "Slideshow",
    "kernelspec": {
      "display_name": "Python 3",
      "language": "python",
      "name": "python3"
    },
    "language_info": {
      "codemirror_mode": {
        "name": "ipython",
        "version": 3
      },
      "file_extension": ".py",
      "mimetype": "text/x-python",
      "name": "python",
      "nbconvert_exporter": "python",
      "pygments_lexer": "ipython3",
      "version": "3.7.3"
    },
    "colab": {
      "name": "1-Introduction_to_PyMC3.ipynb",
      "provenance": [],
      "toc_visible": true
    }
  },
  "nbformat": 4,
  "nbformat_minor": 0
}